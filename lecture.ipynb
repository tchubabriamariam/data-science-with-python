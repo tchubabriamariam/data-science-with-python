{
 "cells": [
  {
   "cell_type": "code",
   "execution_count": 9,
   "metadata": {},
   "outputs": [
    {
     "name": "stdout",
     "output_type": "stream",
     "text": [
      "   Employee_ID               Name  Age     Salary                  City  \\\n",
      "0            1   Alicia Rodriguez   25   35629.60            Perryburgh   \n",
      "1            2     Thomas Hampton   42   86700.44           Port Thomas   \n",
      "2            3       Jerry Lowery   59   68345.27            New Elijah   \n",
      "3            4     Thomas Johnson   44  124712.84  North Barbaraborough   \n",
      "4            5     Benjamin Jones   24  114071.91            Jeremybury   \n",
      "5            6    William Wheeler   55   59365.51            Joshuafurt   \n",
      "6            7      Tonya Stewart   31  124410.88         Hughesborough   \n",
      "7            8        Tracy Munoz   30   93445.83          South Ronald   \n",
      "8            9     Jennifer Lopez   32  118625.32            Port James   \n",
      "9           10  Christina Pearson   45   50456.65             Cruzmouth   \n",
      "\n",
      "  Joining_Date                             Email                   Phone  \\\n",
      "0   2016-03-11              robert33@example.net   001-980-751-3472x2614   \n",
      "1   2020-05-26             ycopeland@example.com      334-528-2029x83028   \n",
      "2   2024-01-19               bryan80@example.net  001-517-912-7172x43249   \n",
      "3   2016-02-08                kclark@example.net        902.811.1709x481   \n",
      "4   2024-09-14         carloscamacho@example.com    001-813-635-2609x096   \n",
      "5   2016-02-02       cassandrabecker@example.org        570.468.4228x820   \n",
      "6   2020-07-16            nicholas66@example.net           (845)493-0446   \n",
      "7   2022-06-05               qmorgan@example.org       637.662.8808x9830   \n",
      "8   2023-04-21       melissaodonnell@example.net           (455)789-2343   \n",
      "9   2021-10-12  pattersonchristopher@example.net       681-392-9355x2557   \n",
      "\n",
      "  Department                         Job_Title  \n",
      "0         IT           Secretary/administrator  \n",
      "1    Finance              Sports administrator  \n",
      "2      Sales        Research scientist (maths)  \n",
      "3    Finance                   Learning mentor  \n",
      "4         IT               Designer, furniture  \n",
      "5         IT       Passenger transport manager  \n",
      "6         IT           Chief Executive Officer  \n",
      "7         HR  Psychologist, sport and exercise  \n",
      "8  Marketing       Careers information officer  \n",
      "9         IT               Art gallery manager  \n",
      "\n",
      "DataFrame shape: (100, 10)\n"
     ]
    }
   ],
   "source": [
    "from faker import Faker\n",
    "import pandas as pd\n",
    "import numpy as np\n",
    "import random\n",
    "\n",
    "fake = Faker()\n",
    "\n",
    "def generate_employee_data(n_rows):\n",
    "    \"\"\"Generate realistic employee data\"\"\"\n",
    "    data = { \n",
    "        \"Employee_ID\": range(1, n_rows + 1),\n",
    "        \"Name\": [fake.name() for _ in range(n_rows)],\n",
    "        \"Age\": [random.randint(22, 65) for _ in range(n_rows)],\n",
    "        \"Salary\": [round(random.uniform(35000, 150000), 2) for _ in range(n_rows)],\n",
    "        \"City\": [fake.city() for _ in range(n_rows)],\n",
    "        \"Joining_Date\": [fake.date_between(start_date='-10y', end_date='today') for _ in range(n_rows)],\n",
    "        \"Email\": [fake.email() for _ in range(n_rows)],\n",
    "        \"Phone\": [fake.phone_number() for _ in range(n_rows)],\n",
    "        \"Department\": [random.choice(['Sales', 'IT', 'Marketing', 'HR', 'Finance']) for _ in range(n_rows)],\n",
    "        \"Job_Title\": [fake.job() for _ in range(n_rows)]\n",
    "    }\n",
    "    return pd.DataFrame(data)\n",
    "\n",
    "# Generate 100 employees\n",
    "df = generate_employee_data(100)\n",
    "print(df.head(10))\n",
    "print(f\"\\nDataFrame shape: {df.shape}\")\n",
    "\n",
    "# Save to CSV\n",
    "df.to_csv('employees_data.csv', index=False)"
   ]
  },
  {
   "cell_type": "markdown",
   "metadata": {},
   "source": [
    "## Task 1\n"
   ]
  },
  {
   "cell_type": "code",
   "execution_count": 8,
   "metadata": {},
   "outputs": [
    {
     "name": "stdout",
     "output_type": "stream",
     "text": [
      "\n",
      "Filtered DataFrame:\n",
      "    Employee_ID                Name  Age     Salary             City  \\\n",
      "4             5      Ashley Alvarez   48  105005.11        Sarahside   \n",
      "11           12        Diana Garcia   36   83200.08    East Johnfurt   \n",
      "12           13            Lee Mack   37  148158.37       New Carmen   \n",
      "15           16           Jim Clark   35   99010.01   West Markmouth   \n",
      "16           17    Danielle Edwards   39   78566.66   South Johnberg   \n",
      "19           20         Tami Hughes   27  128193.50      South Jason   \n",
      "38           39     Amanda Matthews   32  117985.79      Port Angela   \n",
      "55           56        Erica Mendez   31  125997.35    Baileyborough   \n",
      "58           59       Katelyn Davis   34   73044.72     Michaelshire   \n",
      "62           63        Juan Hendrix   26  103203.80    East Brittany   \n",
      "72           73    Joseph Patterson   42  101830.76  North Gabriella   \n",
      "75           76        Bianca Smith   37   95908.32       New Claire   \n",
      "82           83      Cheryl Edwards   47  106586.30        Carolberg   \n",
      "96           97           Jack Luna   25   78196.32     Goodmanmouth   \n",
      "99          100  Kimberly Rodriguez   39   88586.57        Vegaville   \n",
      "\n",
      "   Joining_Date                        Email                  Phone  \\\n",
      "4    2022-03-29           luke82@example.org           855.583.0122   \n",
      "11   2016-04-20          julie91@example.org  001-401-220-8391x8043   \n",
      "12   2025-01-17        kenneth09@example.net     543.398.3838x57080   \n",
      "15   2019-12-21          emiller@example.net     328.444.4243x25341   \n",
      "16   2016-01-08         cstewart@example.net           236.389.6628   \n",
      "19   2021-09-17  roberthenderson@example.com   001-641-374-9776x842   \n",
      "38   2017-06-27           xperez@example.net   +1-613-940-1616x9498   \n",
      "55   2022-01-12      mariocherry@example.org        +1-852-854-6602   \n",
      "58   2025-02-10      jonesnicole@example.com             5078772951   \n",
      "62   2021-10-01   edwardsrichard@example.net           583.953.0614   \n",
      "72   2024-07-20           eyoung@example.org          (342)318-1443   \n",
      "75   2023-09-01       mrodriguez@example.net     (310)964-3954x5315   \n",
      "82   2023-10-30        charles31@example.com    (308)886-7691x53982   \n",
      "96   2023-01-04    freemanjulian@example.net           647-465-9996   \n",
      "99   2016-11-30      brownrobert@example.org     437.981.7494x05559   \n",
      "\n",
      "   Department                      Job_Title  \n",
      "4     Finance  Advertising account executive  \n",
      "11         IT       Counselling psychologist  \n",
      "12    Finance                Patent attorney  \n",
      "15         IT            Librarian, academic  \n",
      "16         IT          Adult guidance worker  \n",
      "19         IT                 Dramatherapist  \n",
      "38    Finance       Counselling psychologist  \n",
      "55         IT            Chemist, analytical  \n",
      "58    Finance     Sports development officer  \n",
      "62         IT        Horticultural therapist  \n",
      "72    Finance        Chartered loss adjuster  \n",
      "75    Finance          Adult guidance worker  \n",
      "82         IT       Radiographer, diagnostic  \n",
      "96         IT                Publishing copy  \n",
      "99         IT         Sales professional, IT  \n"
     ]
    }
   ],
   "source": [
    "filtered_df=df[(df['Age']>=25)\n",
    "               & (df['Age']<=50) \n",
    "               & (df['Salary']>60000) \n",
    "               & (df['Department'].isin(['IT','Finance']))]\n",
    "print(\"\\nFiltered DataFrame:\")\n",
    "print(filtered_df)\n"
   ]
  },
  {
   "cell_type": "markdown",
   "metadata": {},
   "source": [
    "## Task 2"
   ]
  },
  {
   "cell_type": "code",
   "execution_count": 10,
   "metadata": {},
   "outputs": [
    {
     "name": "stdout",
     "output_type": "stream",
     "text": [
      "\n",
      "Selected DataFrame using loc:\n",
      "             Name  Age     Salary\n",
      "2    Jerry Lowery   59   68345.27\n",
      "3  Thomas Johnson   44  124712.84\n",
      "4  Benjamin Jones   24  114071.91\n",
      "\n",
      "Selected DataFrame using iloc:\n",
      "   Employee_ID              Name\n",
      "0            1  Alicia Rodriguez\n",
      "1            2    Thomas Hampton\n",
      "2            3      Jerry Lowery\n"
     ]
    }
   ],
   "source": [
    "selected_df_loc=df.loc[2:4, ['Name','Age','Salary']]\n",
    "print(\"\\nSelected DataFrame using loc:\")\n",
    "print(selected_df_loc)\n",
    "\n",
    "selected_df_iloc=df.iloc[0:3,0:2]\n",
    "print(\"\\nSelected DataFrame using iloc:\")\n",
    "print(selected_df_iloc)"
   ]
  }
 ],
 "metadata": {
  "kernelspec": {
   "display_name": "Python 3",
   "language": "python",
   "name": "python3"
  },
  "language_info": {
   "codemirror_mode": {
    "name": "ipython",
    "version": 3
   },
   "file_extension": ".py",
   "mimetype": "text/x-python",
   "name": "python",
   "nbconvert_exporter": "python",
   "pygments_lexer": "ipython3",
   "version": "3.13.2"
  }
 },
 "nbformat": 4,
 "nbformat_minor": 2
}
